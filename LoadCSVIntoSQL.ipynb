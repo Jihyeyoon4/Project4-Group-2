{
 "cells": [
  {
   "cell_type": "code",
   "execution_count": 9,
   "id": "b8f2051e",
   "metadata": {},
   "outputs": [],
   "source": [
    "import sqlite3 \n",
    "from sqlite3 import Error\n",
    "import csv"
   ]
  },
  {
   "cell_type": "code",
   "execution_count": 49,
   "id": "939ed980",
   "metadata": {},
   "outputs": [],
   "source": [
    "csvfile_path = \"clean_data_outlier1.csv\"\n",
    "dbfile_path = \"proj4_grp2.sqlite\"\n",
    "drop_table_sql = \"DROP TABLE IF EXISTS realestate_info;\"\n",
    "create_table_sql = \"\"\"\n",
    "CREATE TABLE realestate_info\n",
    "(\n",
    "    property_id TEXT PRIMARY KEY,\n",
    "    address TEXT NOT NULL,\n",
    "    street_name TEXT NOT NULL,\n",
    "    city TEXT NOT NULL,\n",
    "    state TEXT NOT NULL,\n",
    "    latitude REAL NOT NULL,\n",
    "    longitude REAL NOT NULL,\n",
    "    postcode TEXT NOT NULL,\n",
    "    price REAL NOT NULL,\n",
    "    bedroom_number REAL NOT NULL,\n",
    "    bathroom_number REAL NOT NULL,\n",
    "    price_per_unit REAL NOT NULL,\n",
    "    living_space REAL NOT NULL,\n",
    "    land_space REAL NOT NULL,\n",
    "    property_type TEXT NOT NULL\n",
    ");\n",
    "\"\"\""
   ]
  },
  {
   "cell_type": "code",
   "execution_count": 50,
   "id": "02c9f85d",
   "metadata": {},
   "outputs": [],
   "source": [
    "# connect to SQLite DB and create a table\n",
    "conn = sqlite3.connect(dbfile_path)\n",
    "cur = conn.cursor()\n",
    "cur.execute(drop_table_sql)\n",
    "cur.execute(create_table_sql)\n",
    "conn.commit()"
   ]
  },
  {
   "cell_type": "code",
   "execution_count": 51,
   "id": "d38be537",
   "metadata": {},
   "outputs": [
    {
     "name": "stdout",
     "output_type": "stream",
     "text": [
      "Imported 273054\n"
     ]
    }
   ],
   "source": [
    "# Load data from CSV and insert into SQLite DB\n",
    "with open(csvfile_path) as csv_file:\n",
    "    csv_reader = csv.reader(csv_file, delimiter=',')\n",
    "    counter = 0\n",
    "    for row in csv_reader:\n",
    "        if row[0] == \"\":\n",
    "            continue\n",
    "        property_id = row[1]\n",
    "        address = row[2].replace(\"'\", \"''\")\n",
    "        street_name = row[3].replace(\"'\", \"''\")\n",
    "        city = row[4].replace(\"'\", \"''\")\n",
    "        state = row[5]\n",
    "        latitude = row[6]\n",
    "        longitude = row[7]\n",
    "        postcode = row[8]\n",
    "        price = row[9]\n",
    "        bedroom_number = row[10]\n",
    "        bathroom_number = row[11]\n",
    "        price_per_unit = row[12]\n",
    "        living_space = row[13]\n",
    "        land_space = row[14]\n",
    "        property_type = row[16]\n",
    "        \n",
    "        insert_sql = f\"\"\"\n",
    "INSERT INTO realestate_info (property_id,address,street_name,\n",
    "city,state,latitude,longitude,postcode,price,bedroom_number,bathroom_number,\n",
    "price_per_unit,living_space,land_space,property_type)\n",
    "VALUES ('{property_id}', '{address}', '{street_name}', '{city}', '{state}',\n",
    "{latitude}, {longitude}, '{postcode}', {price}, {bedroom_number}, {bathroom_number}, {price_per_unit},\n",
    "{living_space}, {land_space}, '{property_type}');\n",
    "\"\"\"\n",
    "#         print(insert_sql)\n",
    "        try:\n",
    "            cur = conn.cursor()\n",
    "            cur.execute(insert_sql)\n",
    "            conn.commit()\n",
    "            counter += 1\n",
    "        except Exception as e:\n",
    "            print(e)\n",
    "            print(property_id)\n",
    "    print(f\"Imported {counter}\")"
   ]
  },
  {
   "cell_type": "code",
   "execution_count": null,
   "id": "383da87b",
   "metadata": {},
   "outputs": [],
   "source": []
  }
 ],
 "metadata": {
  "kernelspec": {
   "display_name": "Python 3 (ipykernel)",
   "language": "python",
   "name": "python3"
  },
  "language_info": {
   "codemirror_mode": {
    "name": "ipython",
    "version": 3
   },
   "file_extension": ".py",
   "mimetype": "text/x-python",
   "name": "python",
   "nbconvert_exporter": "python",
   "pygments_lexer": "ipython3",
   "version": "3.10.9"
  }
 },
 "nbformat": 4,
 "nbformat_minor": 5
}
